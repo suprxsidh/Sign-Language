{
 "cells": [
  {
   "cell_type": "markdown",
   "id": "7c578b2a-3b3a-47c4-ab64-be7a1cf2d920",
   "metadata": {},
   "source": [
    "# Importing Dependencies"
   ]
  },
  {
   "cell_type": "code",
   "execution_count": 2,
   "id": "f068b357-1ab6-4f8b-b3e0-d9dd96286028",
   "metadata": {},
   "outputs": [],
   "source": [
    "import cv2\n",
    "import numpy as np\n",
    "import os\n",
    "from matplotlib import pyplot as plt\n",
    "import time\n",
    "import mediapipe as mp"
   ]
  },
  {
   "cell_type": "markdown",
   "id": "9210ae44-450d-4933-87af-5a15be5df184",
   "metadata": {},
   "source": [
    "# Keypoints using MP Holistic"
   ]
  },
  {
   "cell_type": "code",
   "execution_count": 3,
   "id": "3ba27175-4505-42a0-89f1-0ad5b51e3685",
   "metadata": {},
   "outputs": [],
   "source": [
    "mp_holistic = mp.solutions.holistic #model\n",
    "mp_drawing = mp.solutions.drawing_utils #drawing stuff"
   ]
  },
  {
   "cell_type": "code",
   "execution_count": 4,
   "id": "ca8c55f6-b3ec-4f0e-bd5d-0dd70a9b0ad6",
   "metadata": {},
   "outputs": [],
   "source": [
    "def mediapipe_detection(image,model):\n",
    "    image = cv2.cvtColor(image, cv2.COLOR_BGR2RGB) # Convert Colour\n",
    "    image.flags.writeable = False # Image not writeable\n",
    "    results = model.process(image) # Make Prediction\n",
    "    image.flags.writeable = True\n",
    "    image = cv2.cvtColor(image, cv2.COLOR_RGB2BGR)\n",
    "    return image,results\n",
    "\n",
    "# We do the conversion as cv2 needs to be in an RGB colour space to work by default and we save a little memory"
   ]
  },
  {
   "cell_type": "code",
   "execution_count": 5,
   "id": "e3ab679d-3537-4f81-b153-9b432bc57a47",
   "metadata": {},
   "outputs": [],
   "source": [
    "def draw_landmarks(image,results):\n",
    "    mp_drawing.draw_landmarks(image,results.face_landmarks, mp_holistic.FACEMESH_CONTOURS)\n",
    "    mp_drawing.draw_landmarks(image,results.pose_landmarks, mp_holistic.POSE_CONNECTIONS)\n",
    "    mp_drawing.draw_landmarks(image,results.left_hand_landmarks, mp_holistic.HAND_CONNECTIONS)\n",
    "    mp_drawing.draw_landmarks(image,results.right_hand_landmarks, mp_holistic.HAND_CONNECTIONS)"
   ]
  },
  {
   "cell_type": "code",
   "execution_count": 6,
   "id": "5d745cec-f897-4993-be84-9495500e7a18",
   "metadata": {},
   "outputs": [],
   "source": [
    "def draw_styled_landmarks(image,results):\n",
    "    # Draw connections\n",
    "    mp_drawing.draw_landmarks(image,results.face_landmarks, mp_holistic.FACEMESH_CONTOURS, \n",
    "                              mp_drawing.DrawingSpec(color=(80,110,10),thickness=1,circle_radius=1),\n",
    "                              mp_drawing.DrawingSpec(color=(80,256,121),thickness=1,circle_radius=1))\n",
    "    \n",
    "    mp_drawing.draw_landmarks(image,results.pose_landmarks, mp_holistic.POSE_CONNECTIONS, \n",
    "                              mp_drawing.DrawingSpec(color=(80,22,10),thickness=2,circle_radius=4),\n",
    "                              mp_drawing.DrawingSpec(color=(80,44,121),thickness=2,circle_radius=2))\n",
    "    \n",
    "    mp_drawing.draw_landmarks(image,results.left_hand_landmarks, mp_holistic.HAND_CONNECTIONS, \n",
    "                              mp_drawing.DrawingSpec(color=(121,22,76),thickness=1,circle_radius=4),\n",
    "                              mp_drawing.DrawingSpec(color=(121,44,250),thickness=1,circle_radius=2))\n",
    "    \n",
    "    mp_drawing.draw_landmarks(image,results.right_hand_landmarks, mp_holistic.HAND_CONNECTIONS, \n",
    "                              mp_drawing.DrawingSpec(color=(245,117,66),thickness=1,circle_radius=4),\n",
    "                              mp_drawing.DrawingSpec(color=(245,66,230),thickness=1,circle_radius=2))"
   ]
  },
  {
   "cell_type": "code",
   "execution_count": 12,
   "id": "48c56329-9e31-41a0-9e78-175f7b8d0618",
   "metadata": {},
   "outputs": [
    {
     "name": "stderr",
     "output_type": "stream",
     "text": [
      "I0000 00:00:1718514340.890082  775684 gl_context.cc:357] GL version: 2.1 (2.1 Metal - 88.1), renderer: Apple M3 Pro\n",
      "W0000 00:00:1718514340.968742  779157 inference_feedback_manager.cc:114] Feedback manager requires a model with a single signature inference. Disabling support for feedback tensors.\n",
      "W0000 00:00:1718514340.974878  779157 inference_feedback_manager.cc:114] Feedback manager requires a model with a single signature inference. Disabling support for feedback tensors.\n",
      "W0000 00:00:1718514340.975531  779157 inference_feedback_manager.cc:114] Feedback manager requires a model with a single signature inference. Disabling support for feedback tensors.\n",
      "W0000 00:00:1718514340.975534  779162 inference_feedback_manager.cc:114] Feedback manager requires a model with a single signature inference. Disabling support for feedback tensors.\n",
      "W0000 00:00:1718514340.975760  779156 inference_feedback_manager.cc:114] Feedback manager requires a model with a single signature inference. Disabling support for feedback tensors.\n",
      "W0000 00:00:1718514340.977716  779156 inference_feedback_manager.cc:114] Feedback manager requires a model with a single signature inference. Disabling support for feedback tensors.\n",
      "W0000 00:00:1718514340.979022  779162 inference_feedback_manager.cc:114] Feedback manager requires a model with a single signature inference. Disabling support for feedback tensors.\n",
      "W0000 00:00:1718514340.979529  779163 inference_feedback_manager.cc:114] Feedback manager requires a model with a single signature inference. Disabling support for feedback tensors.\n"
     ]
    }
   ],
   "source": [
    "cap = cv2.VideoCapture(0)\n",
    "\n",
    "# Set mediapipe model\n",
    "with mp_holistic.Holistic(min_detection_confidence=0.5, min_tracking_confidence=0.5) as holistic:\n",
    "    while cap.isOpened():\n",
    "        ret,frame = cap.read() #Reads the feed\n",
    "    \n",
    "        image, results = mediapipe_detection(frame,holistic) #detection stuff\n",
    "\n",
    "        draw_styled_landmarks(image,results) # Draw landmarks in realtime\n",
    "        \n",
    "        cv2.imshow('OpenCV Feed',image) \n",
    "    \n",
    "        if cv2.waitKey(10) & 0xFF == ord('q'):\n",
    "            break\n",
    "      \n",
    "    cap.release()\n",
    "    cv2.destroyAllWindows()"
   ]
  },
  {
   "cell_type": "markdown",
   "id": "c7aa3f0e-ef1b-48ba-bb9c-a5e01d302ef4",
   "metadata": {},
   "source": [
    "# Extracting Keypoint Values"
   ]
  },
  {
   "cell_type": "markdown",
   "id": "d3f41109-42df-48a6-b40f-fa7629a05d4b",
   "metadata": {},
   "source": [
    "## Extracting landmarks and putting them in a numpy array\n",
    "If they are empty, replace with numpy zeros"
   ]
  },
  {
   "cell_type": "code",
   "execution_count": 40,
   "id": "26d4f9c2-6c31-4c41-8846-6a4fa3183cb9",
   "metadata": {},
   "outputs": [],
   "source": [
    "# lh = np.array([[res.x, res.y, res.z] for res in results.left_hand_landmarks.landmark]).flatten() if results.left_hand_landmarks else np.zeros(21*3)"
   ]
  },
  {
   "cell_type": "code",
   "execution_count": 41,
   "id": "f63070e7-782b-4723-b17e-cf2d02e03d9a",
   "metadata": {},
   "outputs": [],
   "source": [
    "# rh = np.array([[res.x, res.y, res.z] for res in results.right_hand_landmarks.landmark]).flatten()if results.right_hand_landmarks else np.zeros(21*3)"
   ]
  },
  {
   "cell_type": "code",
   "execution_count": 42,
   "id": "ee381c97-f2a5-4cef-ba9f-5cc4e4153314",
   "metadata": {},
   "outputs": [],
   "source": [
    "# face = np.array([[res.x, res.y, res.z] for res in results.face_landmarks.landmark]).flatten()if results.face_landmarks else np.zeros(1404)"
   ]
  },
  {
   "cell_type": "code",
   "execution_count": 43,
   "id": "a9f96108-12e8-4bf3-a6cc-eceee6fd7e1f",
   "metadata": {},
   "outputs": [],
   "source": [
    "# pose = np.array([[res.x, res.y, res.z] for res in results.pose_landmarks.landmark]).flatten()if results.pose_landmarks else np.zeros(132)"
   ]
  },
  {
   "cell_type": "code",
   "execution_count": 53,
   "id": "77dcddd7-2bb1-47a8-a647-55d648493bc8",
   "metadata": {},
   "outputs": [],
   "source": [
    "def extract_keypoints(results):\n",
    "    pose = np.array([[res.x, res.y, res.z, res.visibility] for res in results.pose_landmarks.landmark]).flatten()if results.pose_landmarks else np.zeros(33*4)\n",
    "    face = np.array([[res.x, res.y, res.z] for res in results.face_landmarks.landmark]).flatten()if results.face_landmarks else np.zeros(468*3)\n",
    "    rh = np.array([[res.x, res.y, res.z] for res in results.right_hand_landmarks.landmark]).flatten()if results.right_hand_landmarks else np.zeros(21*3)\n",
    "    lh = np.array([[res.x, res.y, res.z] for res in results.left_hand_landmarks.landmark]).flatten() if results.left_hand_landmarks else np.zeros(21*3)\n",
    "    return np.concatenate([pose,face,lh,rh])"
   ]
  },
  {
   "cell_type": "code",
   "execution_count": 54,
   "id": "b487c806-6ef7-40c6-9c98-07942ccc21f5",
   "metadata": {},
   "outputs": [
    {
     "data": {
      "text/plain": [
       "(1662,)"
      ]
     },
     "execution_count": 54,
     "metadata": {},
     "output_type": "execute_result"
    }
   ],
   "source": [
    "extract_keypoints(results).shape"
   ]
  },
  {
   "cell_type": "markdown",
   "id": "abf6b5e3-62fc-41f7-91ea-bc22be976d74",
   "metadata": {},
   "source": [
    "# Setup Folders for Collection"
   ]
  },
  {
   "cell_type": "code",
   "execution_count": 57,
   "id": "b56e0ef0-3c71-4309-994a-6cd72dc7e2f6",
   "metadata": {},
   "outputs": [],
   "source": [
    "#Path for exported data and numpy arrays\n",
    "DATA_PATH = os.path.join('MP_DATA')\n",
    "\n",
    "#Actions to detect\n",
    "actions = np.array(['hello', 'thanks', 'ily'])\n",
    "\n",
    "no_sequences = 30 #vids\n",
    "sequence_length = 30 #frames with 1662 keypoints\n",
    "\n",
    "# 3 actions, 30 frames per action, 30 videos, 1662 keypoints"
   ]
  },
  {
   "cell_type": "code",
   "execution_count": 58,
   "id": "19c4e062-ccef-4647-b4cb-719029f75d1b",
   "metadata": {},
   "outputs": [],
   "source": [
    "for action in actions:\n",
    "    for sequence in range(no_sequences):\n",
    "        try:\n",
    "            os.makedirs(os.path.join(DATA_PATH,action,str(sequence)))\n",
    "        except:\n",
    "            pass"
   ]
  },
  {
   "cell_type": "markdown",
   "id": "9c31fe27-94a5-40d6-9182-abd164d87606",
   "metadata": {},
   "source": [
    "# Collect the Data"
   ]
  },
  {
   "cell_type": "code",
   "execution_count": null,
   "id": "a97f1763-9b3f-4481-936f-5651d41ed111",
   "metadata": {},
   "outputs": [],
   "source": []
  }
 ],
 "metadata": {
  "kernelspec": {
   "display_name": "Python 3 (ipykernel)",
   "language": "python",
   "name": "python3"
  },
  "language_info": {
   "codemirror_mode": {
    "name": "ipython",
    "version": 3
   },
   "file_extension": ".py",
   "mimetype": "text/x-python",
   "name": "python",
   "nbconvert_exporter": "python",
   "pygments_lexer": "ipython3",
   "version": "3.12.3"
  }
 },
 "nbformat": 4,
 "nbformat_minor": 5
}
